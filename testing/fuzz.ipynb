{
 "cells": [
  {
   "cell_type": "code",
   "execution_count": 1,
   "metadata": {},
   "outputs": [],
   "source": [
    "import sys\n",
    "import os\n",
    "import math\n",
    "import random as rd"
   ]
  },
  {
   "cell_type": "code",
   "execution_count": 2,
   "metadata": {},
   "outputs": [],
   "source": [
    "#This one is true\n",
    "LAT_PER_KM = 5.92260282/658\n",
    "#This one is not true, but you can kiss my confident little assertions\n",
    "LON_PER_KM = 6.898664/((606+651)/2)"
   ]
  },
  {
   "cell_type": "code",
   "execution_count": 3,
   "metadata": {},
   "outputs": [],
   "source": [
    "def is_num(s, nanAllowed=False):\n",
    "    try:\n",
    "        a = float(s)\n",
    "    except ValueError:\n",
    "        return False\n",
    "    else:\n",
    "        if math.isnan(a):\n",
    "            return nanAllowed\n",
    "        else:\n",
    "            return True"
   ]
  },
  {
   "cell_type": "code",
   "execution_count": 4,
   "metadata": {},
   "outputs": [],
   "source": [
    "file_name = '../Designs_Sites_Vessels.csv'"
   ]
  },
  {
   "cell_type": "code",
   "execution_count": null,
   "metadata": {},
   "outputs": [],
   "source": [
    "file_name = input(\"filename: \")"
   ]
  },
  {
   "cell_type": "code",
   "execution_count": null,
   "metadata": {},
   "outputs": [],
   "source": [
    "#Something about sys.argv"
   ]
  },
  {
   "cell_type": "code",
   "execution_count": 15,
   "metadata": {},
   "outputs": [],
   "source": [
    "with open(file_name, 'r') as f:\n",
    "    # Make the first line of the csv into an array\n",
    "    # of lowercase column names\n",
    "    header_line = f.readline()\n",
    "    headers = [i.lower().strip() for i in header_line[:-1].split(',')]\n",
    "    lines = f.readlines()\n",
    "    data = [i[:-1].split(',') for i in lines]"
   ]
  },
  {
   "cell_type": "code",
   "execution_count": 21,
   "metadata": {},
   "outputs": [
    {
     "name": "stdout",
     "output_type": "stream",
     "text": [
      "18156 rows and 423 sites\n"
     ]
    }
   ],
   "source": [
    "if 'latitude' not in headers:\n",
    "    print(\"Aww, bloody nonsense this is. You ain't even got the latitude, see?\")\n",
    "if 'longitude' not in headers:\n",
    "    print(\"Aww, bloody nonsense this is. You ain't even got the longitude, see?\")\n",
    "\n",
    "lat_index = headers.index('latitude')\n",
    "lon_index = headers.index('longitude')\n",
    "has_sites = 'site id' in headers\n",
    "if has_sites:\n",
    "    id_index = headers.index('site id')\n",
    "    new_sites = {}\n",
    "\n",
    "new_data = []\n",
    "# for each row in the csv\n",
    "if has_sites:\n",
    "    # for each row with a location (lat, lon)\n",
    "    for i, row in enumerate([row for row in data if is_num(row[lat_index]) and is_num(row[lon_index])]):\n",
    "        if row[id_index] in new_sites:\n",
    "            if (row[lat_index], row[lon_index]) != new_sites[row[id_index]]:\n",
    "                print(\"Invalid at\", i, \"since\", (row[lat_index], row[lon_index]), \"!=\", new_sites[row[id_index]])\n",
    "                print()\n",
    "        else:\n",
    "            # Add new sites to a list\n",
    "            new_sites[row[id_index]] = (row[lat_index], row[lon_index])\n",
    "    print(len(data), \"rows and\", len(new_sites), \"sites\")\n",
    "    \n",
    "    for k, v in new_sites.items():\n",
    "        hyp = 5+rd.random()*5\n",
    "        theta = math.tau * rd.random()\n",
    "        d_lat = hyp*math.sin(theta)*LAT_PER_KM\n",
    "        d_lon = hyp*math.cos(theta)*LON_PER_KM\n",
    "        new_sites[k] = (str(float(v[0])+d_lat), str(float(v[1])+d_lon))\n",
    "    \n",
    "    for row in data:\n",
    "        if is_num(row[lat_index]) and is_num(row[lon_index]):\n",
    "            new_row = row[:]\n",
    "            site_loc = new_sites[row[id_index]]\n",
    "            new_row[lat_index] = site_loc[0]\n",
    "            new_row[lon_index] = site_loc[1]\n",
    "            new_data.append(new_row)\n",
    "        else:\n",
    "            new_data.append(row[:])\n",
    "else:\n",
    "    for row in data:\n",
    "        if is_num(row[lat_index]) and is_num(row[lon_index]):\n",
    "            lat = float(row[lat_index])\n",
    "            lon = float(row[lon_index])\n",
    "            \n",
    "            hyp = 5+rd.random()*5\n",
    "            theta = math.tau * rd.random()\n",
    "            d_lat = hyp*math.sin(theta)*LAT_PER_KM\n",
    "            d_lon = hyp*math.cos(theta)*LON_PER_KM\n",
    "            \n",
    "            new_row = row[:]\n",
    "            new_row[lat_index] = str(lat + d_lat)\n",
    "            new_row[lon_index] = str(lon + d_lon)\n",
    "            \n",
    "            new_data.append(new_row)\n",
    "        else:\n",
    "            new_data.append(row[:])"
   ]
  },
  {
   "cell_type": "code",
   "execution_count": 28,
   "metadata": {},
   "outputs": [
    {
     "name": "stdout",
     "output_type": "stream",
     "text": [
      "../Designs_Sites_Vessels_new.csv\n"
     ]
    }
   ],
   "source": [
    "file_name_split = file_name.split('.')\n",
    "if (len(file_name_split)>1):\n",
    "    file_name_split[-2] += \"_new\"\n",
    "    new_file_name = '.'.join(file_name_split)\n",
    "else:\n",
    "    new_file_name = file_name+\"_new\"\n",
    "print(new_file_name)\n",
    "\n",
    "with open(new_file_name, 'w') as f:\n",
    "    f.write(header_line)\n",
    "    f.writelines([','.join([str(j) for j in i])+'\\n' for i in new_data])"
   ]
  }
 ],
 "metadata": {
  "kernelspec": {
   "display_name": "Python 3",
   "language": "python",
   "name": "python3"
  },
  "language_info": {
   "codemirror_mode": {
    "name": "ipython",
    "version": 3
   },
   "file_extension": ".py",
   "mimetype": "text/x-python",
   "name": "python",
   "nbconvert_exporter": "python",
   "pygments_lexer": "ipython3",
   "version": "3.8.5"
  }
 },
 "nbformat": 4,
 "nbformat_minor": 4
}
